{
 "cells": [
  {
   "cell_type": "markdown",
   "metadata": {},
   "source": [
    "# Team Random Selection Code :)\n"
   ]
  },
  {
   "cell_type": "code",
   "execution_count": 22,
   "metadata": {},
   "outputs": [],
   "source": [
    "import random\n",
    "\n",
    "# Define the four test lists\n",
    "level1_list = [\"Argentina\", \"Spain\", \"Brazil\", \"Germany\"]\n",
    "level2_list = ['Netherlands', 'England', 'France','Belgium']\n",
    "level3_list = [\"Portugal\", \"Morocco\", \"Mexico\",\"Croatia\"]\n",
    "level4_list = [\"Algeria\",\"Tunisia\",\"Norway\",\"Egypt\"]"
   ]
  },
  {
   "cell_type": "markdown",
   "metadata": {},
   "source": [
    "Think about a code that help us to have random new mixed lists, each list should have one element from each level lists.\n",
    "\n",
    "Output may be like that following:\n",
    "```python\n",
    "team1 = [1, 'c', 88, '2&']\n",
    "team2 = [4, 'a', 99, '3%']\n",
    "team3 = [2, 'b', 77, '4©']\n",
    "team4 = [3, 'd', 66, '1$']\n",
    "```\n",
    "\n"
   ]
  },
  {
   "cell_type": "code",
   "execution_count": 23,
   "metadata": {},
   "outputs": [
    {
     "name": "stdout",
     "output_type": "stream",
     "text": [
      "Group1 = ['Brazil', 'Netherlands', 'Croatia', 'Algeria']\n",
      "Group2 = ['Spain', 'England', 'Mexico', 'Tunisia']\n",
      "Group3 = ['Germany', 'France', 'Portugal', 'Norway']\n",
      "Group4 = ['Argentina', 'Belgium', 'Morocco', 'Egypt']\n"
     ]
    }
   ],
   "source": [
    "# your code here\n",
    "import random\n",
    "Participants = [level1_list , level2_list , level3_list , level4_list]\n",
    "Group = []\n",
    "for i in range(4):\n",
    "    for j in Participants :\n",
    "        team = random.choice(j) \n",
    "        Group.append(team)\n",
    "        j.remove(team)\n",
    "    print(f\"Group{i+1} = {Group}\")\n",
    "    Group.clear()"
   ]
  },
  {
   "cell_type": "code",
   "execution_count": null,
   "metadata": {},
   "outputs": [],
   "source": []
  }
 ],
 "metadata": {
  "kernelspec": {
   "display_name": "pubmed",
   "language": "python",
   "name": "python3"
  },
  "language_info": {
   "codemirror_mode": {
    "name": "ipython",
    "version": 3
   },
   "file_extension": ".py",
   "mimetype": "text/x-python",
   "name": "python",
   "nbconvert_exporter": "python",
   "pygments_lexer": "ipython3",
   "version": "3.12.4"
  }
 },
 "nbformat": 4,
 "nbformat_minor": 2
}
